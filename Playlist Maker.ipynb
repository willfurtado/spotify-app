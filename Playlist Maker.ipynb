{
 "cells": [
  {
   "cell_type": "code",
   "execution_count": 1,
   "metadata": {},
   "outputs": [],
   "source": [
    "import spotipy\n",
    "import json\n",
    "import base64\n",
    "from secrets import CLIENT_ID, CLIENT_SECRET, REDIRECT_URI\n",
    "from spotipy.oauth2 import SpotifyOAuth\n",
    "\n",
    "REDIRECT_URI = \"https://google.com/\"\n",
    "scope = \"playlist-modify-public ugc-image-upload\"\n",
    "IMG_PATH = \"cover_photos/green.jpg\""
   ]
  },
  {
   "cell_type": "code",
   "execution_count": 2,
   "metadata": {},
   "outputs": [],
   "source": [
    "sp = spotipy.Spotify(auth_manager=SpotifyOAuth(scope=scope, \n",
    "    client_id=CLIENT_ID, \n",
    "    client_secret=CLIENT_SECRET,\n",
    "    cache_path='../.cache-willfurtado',\n",
    "    redirect_uri=REDIRECT_URI))"
   ]
  },
  {
   "cell_type": "code",
   "execution_count": 3,
   "metadata": {},
   "outputs": [],
   "source": [
    "def get_spotify_uri(song):\n",
    "    \"\"\"\n",
    "    Returns the corresponding spotify URI from a given song title\n",
    "    \"\"\"\n",
    "    search_results = sp.search(q=str(song + \"%20\"), type='track', limit=1)\n",
    "    try:\n",
    "        return search_results['tracks']['items'][0]['id']\n",
    "    except (AttributeError, IndexError) as err:\n",
    "        print('No results for {}'.format(song))\n",
    "    \n",
    "def getCurrentUser():\n",
    "    \"\"\"\n",
    "    Returns the username of the current user.\n",
    "    \"\"\"\n",
    "    try:\n",
    "        return sp.current_user()['display_name']\n",
    "    except:\n",
    "        print(\"Could not get Current User information.\")\n",
    "\n",
    "def getNewPlaylistURI():\n",
    "    \"\"\"\n",
    "    Returns the spotify URI of the current user's most recent playlist\n",
    "    \"\"\"\n",
    "    try:\n",
    "        return sp.current_user_playlists()['items'][0]['uri']\n",
    "    except:\n",
    "        print(\"Could not get URI of latest Spotify playlist.\")"
   ]
  },
  {
   "cell_type": "code",
   "execution_count": 4,
   "metadata": {},
   "outputs": [],
   "source": [
    "def promptUserInput():\n",
    "    \"\"\"\n",
    "    Prompts for user input and will create a dictionary with corresponding song URI codes\n",
    "    \"\"\"\n",
    "    tracks = {}\n",
    "    sentence_string = input(\"\")\n",
    "    words = sentence_string.lower().split()\n",
    "    for word in words:\n",
    "        track_id = get_spotify_uri(word)\n",
    "        if word not in tracks:\n",
    "            tracks[word] = track_id\n",
    "    return tracks"
   ]
  },
  {
   "cell_type": "code",
   "execution_count": 5,
   "metadata": {},
   "outputs": [],
   "source": [
    "def uploadPlaylistCover(playlist_id):\n",
    "    \"\"\"\n",
    "    Uploads the Base 64 encoded image to the playlist\n",
    "    \"\"\"\n",
    "    with open(IMG_PATH, \"rb\") as image_file:\n",
    "        im = base64.b64encode(image_file.read())\n",
    "    sp.playlist_upload_cover_image(playlist_id, im)"
   ]
  },
  {
   "cell_type": "code",
   "execution_count": 6,
   "metadata": {},
   "outputs": [],
   "source": [
    "def playlistGenerator():\n",
    "    \"\"\"\n",
    "    Creates a generated playlist\n",
    "    \"\"\"\n",
    "    tracks = promptUserInput()\n",
    "    sp.user_playlist_create(getCurrentUser(), \n",
    "            \"Sing me a bedtime story...\", \n",
    "            public=True, \n",
    "            description=\"This playlist was automatically generated based on user input using the Spotify Web API. See the code on GitHub! @willfurtado\")\n",
    "    \n",
    "    playlist_id = getNewPlaylistURI()\n",
    "    uploadPlaylistCover(playlist_id)\n",
    "    tracks_list = list(tracks.values())\n",
    "    sp.user_playlist_add_tracks(getCurrentUser(), \n",
    "                                playlist_id, \n",
    "                                tracks_list)\n",
    "\n",
    "    return \"Playlist created successfully!\""
   ]
  },
  {
   "cell_type": "code",
   "execution_count": 7,
   "metadata": {},
   "outputs": [
    {
     "name": "stdout",
     "output_type": "stream",
     "text": [
      "There is only one friend\n"
     ]
    },
    {
     "data": {
      "text/plain": [
       "'Playlist created successfully!'"
      ]
     },
     "execution_count": 7,
     "metadata": {},
     "output_type": "execute_result"
    }
   ],
   "source": [
    "playlistGenerator()"
   ]
  },
  {
   "cell_type": "code",
   "execution_count": null,
   "metadata": {},
   "outputs": [],
   "source": []
  }
 ],
 "metadata": {
  "kernelspec": {
   "display_name": "Python 3",
   "language": "python",
   "name": "python3"
  },
  "language_info": {
   "codemirror_mode": {
    "name": "ipython",
    "version": 3
   },
   "file_extension": ".py",
   "mimetype": "text/x-python",
   "name": "python",
   "nbconvert_exporter": "python",
   "pygments_lexer": "ipython3",
   "version": "3.7.4"
  }
 },
 "nbformat": 4,
 "nbformat_minor": 2
}
