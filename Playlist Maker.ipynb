{
 "cells": [
  {
   "cell_type": "code",
   "execution_count": 23,
   "metadata": {},
   "outputs": [],
   "source": [
    "import spotipy\n",
    "import json\n",
    "import base64\n",
    "from secrets import CLIENT_ID, CLIENT_SECRET, REDIRECT_URI\n",
    "from spotipy.oauth2 import SpotifyOAuth\n",
    "import spacy\n",
    "\n",
    "from spacy.lang.en import English\n",
    "\n",
    "REDIRECT_URI = \"https://google.com/\"\n",
    "scope = \"playlist-modify-public ugc-image-upload\"\n",
    "IMG_PATH = \"cover_photos/green.jpg\"\n",
    "nlp = spacy.load(\"en_core_web_sm\")\n",
    "nlp = English()"
   ]
  },
  {
   "cell_type": "code",
   "execution_count": 24,
   "metadata": {},
   "outputs": [],
   "source": [
    "sp = spotipy.Spotify(auth_manager=SpotifyOAuth(scope=scope, \n",
    "    client_id=CLIENT_ID, \n",
    "    client_secret=CLIENT_SECRET,\n",
    "    cache_path='../.cache-willfurtado',\n",
    "    redirect_uri=REDIRECT_URI))"
   ]
  },
  {
   "cell_type": "code",
   "execution_count": 25,
   "metadata": {},
   "outputs": [],
   "source": [
    "def get_spotify_uri(song):\n",
    "    \"\"\"\n",
    "    Returns the corresponding spotify URI from a given song title\n",
    "    \"\"\"\n",
    "    try:\n",
    "        results = sp.search(q=song, type=\"track\", limit=50)['tracks']['items']\n",
    "        names, ids = [results[i]['name'] for i in range(50)], [results[i]['id'] for i in range(50)]\n",
    "        zipped, zipped2 = zip(names, ids), zip(names, ids)\n",
    "        perfect_match = [track_id for (name, track_id) in zipped2 if name.lower() == song.lower()]\n",
    "        track_uri = [track_id for (name, track_id) in zipped if name.lower().startswith(song.lower() + \" \")][0]\n",
    "        return track_uri if not perfect_match else perfect_match[0]\n",
    "    except (AttributeError, IndexError) as err:\n",
    "        return err\n",
    "    \n",
    "def getCurrentUser():\n",
    "    \"\"\"\n",
    "    Returns the username of the current user.\n",
    "    \"\"\"\n",
    "    try:\n",
    "        return sp.current_user()['display_name']\n",
    "    except:\n",
    "        print(\"Could not get Current User information.\")\n",
    "\n",
    "def getNewPlaylistURI():\n",
    "    \"\"\"\n",
    "    Returns the spotify URI of the current user's most recent playlist\n",
    "    \"\"\"\n",
    "    try:\n",
    "        return sp.current_user_playlists()['items'][0]['uri']\n",
    "    except:\n",
    "        print(\"Could not get URI of latest Spotify playlist.\")"
   ]
  },
  {
   "cell_type": "code",
   "execution_count": 30,
   "metadata": {},
   "outputs": [],
   "source": [
    "def promptUserInput():\n",
    "    \"\"\"\n",
    "    Prompts for user input and will create a dictionary with corresponding song URI codes\n",
    "    \"\"\"\n",
    "    tracks = {}\n",
    "    sentence_string = input(\"\")\n",
    "    tokens = nlp(sentence_string)\n",
    "    for token in tokens:\n",
    "        track_id = get_spotify_uri(token.text)\n",
    "        if token.text not in tracks:\n",
    "            tracks[token.text] = track_id\n",
    "    return tracks"
   ]
  },
  {
   "cell_type": "code",
   "execution_count": 31,
   "metadata": {},
   "outputs": [],
   "source": [
    "def uploadPlaylistCover(playlist_id):\n",
    "    \"\"\"\n",
    "    Uploads the Base 64 encoded image to the playlist\n",
    "    \"\"\"\n",
    "    with open(IMG_PATH, \"rb\") as image_file:\n",
    "        im = base64.b64encode(image_file.read())\n",
    "    sp.playlist_upload_cover_image(playlist_id, im)"
   ]
  },
  {
   "cell_type": "code",
   "execution_count": 34,
   "metadata": {},
   "outputs": [],
   "source": [
    "def playlistGenerator():\n",
    "    \"\"\"\n",
    "    Creates a generated playlist\n",
    "    \"\"\"\n",
    "    tracks = promptUserInput()\n",
    "    sp.user_playlist_create(getCurrentUser(), \n",
    "            \"Sing me a bedtime story...\", \n",
    "            public=True, \n",
    "            description=\"This playlist was automatically generated based on user input using the Spotify Web API. See the code on GitHub! @willfurtado\")\n",
    "    \n",
    "    playlist_id = getNewPlaylistURI()\n",
    "    #uploadPlaylistCover(playlist_id)\n",
    "    tracks_list = list(tracks.values())\n",
    "    sp.user_playlist_add_tracks(getCurrentUser(), \n",
    "                                playlist_id, \n",
    "                                tracks_list)\n",
    "\n",
    "    return \"Playlist created successfully!\""
   ]
  },
  {
   "cell_type": "code",
   "execution_count": 35,
   "metadata": {},
   "outputs": [
    {
     "name": "stdout",
     "output_type": "stream",
     "text": [
      "will likes cool technology\n"
     ]
    },
    {
     "data": {
      "text/plain": [
       "'Playlist created successfully!'"
      ]
     },
     "execution_count": 35,
     "metadata": {},
     "output_type": "execute_result"
    }
   ],
   "source": [
    "playlistGenerator()"
   ]
  }
 ],
 "metadata": {
  "kernelspec": {
   "display_name": "Python 3",
   "language": "python",
   "name": "python3"
  },
  "language_info": {
   "codemirror_mode": {
    "name": "ipython",
    "version": 3
   },
   "file_extension": ".py",
   "mimetype": "text/x-python",
   "name": "python",
   "nbconvert_exporter": "python",
   "pygments_lexer": "ipython3",
   "version": "3.7.4"
  }
 },
 "nbformat": 4,
 "nbformat_minor": 2
}
